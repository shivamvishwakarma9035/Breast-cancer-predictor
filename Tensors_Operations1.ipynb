{
  "nbformat": 4,
  "nbformat_minor": 0,
  "metadata": {
    "colab": {
      "provenance": [],
      "gpuType": "T4",
      "authorship_tag": "ABX9TyMjLTOrs/fzDn+zKAF+KE+F",
      "include_colab_link": true
    },
    "kernelspec": {
      "name": "python3",
      "display_name": "Python 3"
    },
    "language_info": {
      "name": "python"
    },
    "accelerator": "GPU"
  },
  "cells": [
    {
      "cell_type": "markdown",
      "metadata": {
        "id": "view-in-github",
        "colab_type": "text"
      },
      "source": [
        "<a href=\"https://colab.research.google.com/github/shivamvishwakarma9035/Breast-cancer-predictor/blob/main/Tensors_Operations1.ipynb\" target=\"_parent\"><img src=\"https://colab.research.google.com/assets/colab-badge.svg\" alt=\"Open In Colab\"/></a>"
      ]
    },
    {
      "cell_type": "code",
      "execution_count": null,
      "metadata": {
        "colab": {
          "base_uri": "https://localhost:8080/"
        },
        "id": "8xNxXYJ4j5bf",
        "outputId": "e85f72ef-9bc7-4d04-acd8-57f135277b45"
      },
      "outputs": [
        {
          "output_type": "stream",
          "name": "stdout",
          "text": [
            "2.5.1+cu124\n"
          ]
        }
      ],
      "source": [
        "import torch\n",
        "print(torch.__version__)"
      ]
    },
    {
      "cell_type": "code",
      "source": [
        "if torch.cuda.is_available():\n",
        "    print(\"GPU is available.\")\n",
        "    print(f\"Using GPU:{torch.cuda.get_device_name(0)}\")\n",
        "else:\n",
        "    print(\"GPU is not available.\")"
      ],
      "metadata": {
        "colab": {
          "base_uri": "https://localhost:8080/"
        },
        "id": "SsQi2Ec1kc3p",
        "outputId": "9ede83f5-49d7-4672-8a15-4a99d0ab4c88"
      },
      "execution_count": null,
      "outputs": [
        {
          "output_type": "stream",
          "name": "stdout",
          "text": [
            "GPU is available.\n",
            "Using GPU:Tesla T4\n"
          ]
        }
      ]
    },
    {
      "cell_type": "markdown",
      "source": [
        "Creating a tensor\n"
      ],
      "metadata": {
        "id": "kCsNshP6l541"
      }
    },
    {
      "cell_type": "code",
      "source": [
        "# using empty\n",
        "a=torch.empty(2,3)"
      ],
      "metadata": {
        "id": "0bPD_S88l_Kr"
      },
      "execution_count": null,
      "outputs": []
    },
    {
      "cell_type": "code",
      "source": [
        "# check type\n",
        "type(a)"
      ],
      "metadata": {
        "colab": {
          "base_uri": "https://localhost:8080/"
        },
        "id": "TSA3OsWOmSIV",
        "outputId": "567682c4-ed46-4ac1-e4dd-d1336bac3480"
      },
      "execution_count": null,
      "outputs": [
        {
          "output_type": "execute_result",
          "data": {
            "text/plain": [
              "torch.Tensor"
            ]
          },
          "metadata": {},
          "execution_count": 9
        }
      ]
    },
    {
      "cell_type": "code",
      "source": [
        "# using zeroes\n",
        "torch.zeros(2,3)"
      ],
      "metadata": {
        "colab": {
          "base_uri": "https://localhost:8080/"
        },
        "id": "KgjNQvhDmisG",
        "outputId": "cde91df5-b426-4a12-abb7-243b35597f97"
      },
      "execution_count": null,
      "outputs": [
        {
          "output_type": "execute_result",
          "data": {
            "text/plain": [
              "tensor([[0., 0., 0.],\n",
              "        [0., 0., 0.]])"
            ]
          },
          "metadata": {},
          "execution_count": 12
        }
      ]
    },
    {
      "cell_type": "code",
      "source": [
        "# using ones\n",
        "torch .ones(2,4)"
      ],
      "metadata": {
        "colab": {
          "base_uri": "https://localhost:8080/"
        },
        "id": "sSdfhwNvmuZB",
        "outputId": "a1a20c8c-2dc8-4bc0-8ab2-ca227891d275"
      },
      "execution_count": null,
      "outputs": [
        {
          "output_type": "execute_result",
          "data": {
            "text/plain": [
              "tensor([[1., 1., 1., 1.],\n",
              "        [1., 1., 1., 1.]])"
            ]
          },
          "metadata": {},
          "execution_count": 13
        }
      ]
    },
    {
      "cell_type": "code",
      "source": [
        "# using rand which generate float number in between o and 1\n",
        "torch.rand(2,3)\n"
      ],
      "metadata": {
        "colab": {
          "base_uri": "https://localhost:8080/"
        },
        "id": "IiLS5oPhm6PY",
        "outputId": "8a0306cb-8474-409e-d311-2c80692953aa"
      },
      "execution_count": null,
      "outputs": [
        {
          "output_type": "execute_result",
          "data": {
            "text/plain": [
              "tensor([[0.7655, 0.6336, 0.7465],\n",
              "        [0.5611, 0.8235, 0.2573]])"
            ]
          },
          "metadata": {},
          "execution_count": 14
        }
      ]
    },
    {
      "cell_type": "code",
      "source": [
        "# use of seed\n",
        "torch.manual_seed(42)\n",
        "torch.rand(2,3)"
      ],
      "metadata": {
        "colab": {
          "base_uri": "https://localhost:8080/"
        },
        "id": "nCcj9nbMnAmn",
        "outputId": "6245aeab-10a4-4bf2-a438-25b58a5a3c0c"
      },
      "execution_count": null,
      "outputs": [
        {
          "output_type": "execute_result",
          "data": {
            "text/plain": [
              "tensor([[0.8823, 0.9150, 0.3829],\n",
              "        [0.9593, 0.3904, 0.6009]])"
            ]
          },
          "metadata": {},
          "execution_count": 20
        }
      ]
    },
    {
      "cell_type": "code",
      "source": [
        "# using tensors\n",
        "torch.tensor([[1,2,3],[4,4,5]])"
      ],
      "metadata": {
        "colab": {
          "base_uri": "https://localhost:8080/"
        },
        "id": "L16QmSChnOoD",
        "outputId": "022558d3-2ab2-4c6b-aae9-0a3ad425f29b"
      },
      "execution_count": null,
      "outputs": [
        {
          "output_type": "execute_result",
          "data": {
            "text/plain": [
              "tensor([[1, 2, 3],\n",
              "        [4, 4, 5]])"
            ]
          },
          "metadata": {},
          "execution_count": 21
        }
      ]
    },
    {
      "cell_type": "code",
      "source": [
        "# other ways\n",
        "# range\n",
        "print(\"using range->\",torch.arange(10,20,2))\n",
        "\n",
        "# using linspace\n",
        "print(\"using linspace->\",torch.linspace(0,10,10))\n",
        "\n",
        "# using eye\n",
        "print(\"using eye->\",torch.eye(3))\n",
        "\n",
        "# using diag\n",
        "print(\"using diag->\",torch.diag(torch.tensor([1,2,3])))\n",
        "\n",
        "# using full\n",
        "print(\"using full->\",torch.full((3,3),2))"
      ],
      "metadata": {
        "colab": {
          "base_uri": "https://localhost:8080/"
        },
        "id": "WDqOoE_xnpcx",
        "outputId": "dbc06e20-2137-4df3-c208-9a85a749d328"
      },
      "execution_count": null,
      "outputs": [
        {
          "output_type": "stream",
          "name": "stdout",
          "text": [
            "using range-> tensor([10, 12, 14, 16, 18])\n",
            "using linspace-> tensor([ 0.0000,  1.1111,  2.2222,  3.3333,  4.4444,  5.5556,  6.6667,  7.7778,\n",
            "         8.8889, 10.0000])\n",
            "using eye-> tensor([[1., 0., 0.],\n",
            "        [0., 1., 0.],\n",
            "        [0., 0., 1.]])\n",
            "using diag-> tensor([[1, 0, 0],\n",
            "        [0, 2, 0],\n",
            "        [0, 0, 3]])\n",
            "using full-> tensor([[2, 2, 2],\n",
            "        [2, 2, 2],\n",
            "        [2, 2, 2]])\n"
          ]
        }
      ]
    },
    {
      "cell_type": "markdown",
      "source": [],
      "metadata": {
        "id": "RVWxtntwpQ__"
      }
    },
    {
      "cell_type": "markdown",
      "source": [
        "Tensors shape"
      ],
      "metadata": {
        "id": "fIQFGdqEpZez"
      }
    },
    {
      "cell_type": "code",
      "source": [
        "x=torch.tensor([[1,2,3],[4,5,6]])\n",
        "x.shape"
      ],
      "metadata": {
        "colab": {
          "base_uri": "https://localhost:8080/"
        },
        "id": "Ud21U1ZXphR-",
        "outputId": "f3f15439-dd81-4fa2-f020-a021dc9b446e"
      },
      "execution_count": null,
      "outputs": [
        {
          "output_type": "execute_result",
          "data": {
            "text/plain": [
              "torch.Size([2, 3])"
            ]
          },
          "metadata": {},
          "execution_count": 30
        }
      ]
    },
    {
      "cell_type": "code",
      "source": [
        "torch.empty_like (x)\n",
        "#shape will be same as x but value can be different"
      ],
      "metadata": {
        "colab": {
          "base_uri": "https://localhost:8080/"
        },
        "id": "JfDL45QgqMpG",
        "outputId": "cba848ab-f6bd-4591-d2e3-2c621fb77d74"
      },
      "execution_count": null,
      "outputs": [
        {
          "output_type": "execute_result",
          "data": {
            "text/plain": [
              "tensor([[170708808,      1107, 170708648],\n",
              "        [       53, 170708840,      1099]])"
            ]
          },
          "metadata": {},
          "execution_count": 35
        }
      ]
    },
    {
      "cell_type": "code",
      "source": [
        "print(torch.zeros_like(x))\n",
        "torch.ones_like(x)"
      ],
      "metadata": {
        "id": "LVdJNI11qjQq",
        "colab": {
          "base_uri": "https://localhost:8080/"
        },
        "outputId": "7e24b1fa-2c20-4aa4-b342-5816c1469084"
      },
      "execution_count": 38,
      "outputs": [
        {
          "output_type": "stream",
          "name": "stdout",
          "text": [
            "tensor([[0, 0, 0],\n",
            "        [0, 0, 0]])\n"
          ]
        },
        {
          "output_type": "execute_result",
          "data": {
            "text/plain": [
              "tensor([[1, 1, 1],\n",
              "        [1, 1, 1]])"
            ]
          },
          "metadata": {},
          "execution_count": 38
        }
      ]
    },
    {
      "cell_type": "code",
      "source": [
        "torch.rand_like(x,dtype=torch.float32)"
      ],
      "metadata": {
        "id": "Ws8T2eMfqrrX",
        "colab": {
          "base_uri": "https://localhost:8080/"
        },
        "outputId": "face09b3-4eda-439f-fb66-f69c5b712c08"
      },
      "execution_count": 47,
      "outputs": [
        {
          "output_type": "execute_result",
          "data": {
            "text/plain": [
              "tensor([[0.2566, 0.7936, 0.9408],\n",
              "        [0.1332, 0.9346, 0.5936]])"
            ]
          },
          "metadata": {},
          "execution_count": 47
        }
      ]
    },
    {
      "cell_type": "markdown",
      "source": [
        "**Tensor Date Type**"
      ],
      "metadata": {
        "id": "ipbnrqi0tSCf"
      }
    },
    {
      "cell_type": "code",
      "source": [
        "x.dtype"
      ],
      "metadata": {
        "colab": {
          "base_uri": "https://localhost:8080/"
        },
        "id": "kYor_Ocfsb4Q",
        "outputId": "90887d05-3065-471d-adf8-05c6969ec3cd"
      },
      "execution_count": 40,
      "outputs": [
        {
          "output_type": "execute_result",
          "data": {
            "text/plain": [
              "torch.int64"
            ]
          },
          "metadata": {},
          "execution_count": 40
        }
      ]
    },
    {
      "cell_type": "code",
      "source": [
        "# assign data type\n",
        "torch.tensor([1.0,2.99999,3.556],dtype=torch.int64)"
      ],
      "metadata": {
        "colab": {
          "base_uri": "https://localhost:8080/"
        },
        "id": "rMNWQ5A9td9w",
        "outputId": "c02797ac-d4fd-4e6c-a979-019b19822f70"
      },
      "execution_count": 42,
      "outputs": [
        {
          "output_type": "execute_result",
          "data": {
            "text/plain": [
              "tensor([1, 2, 3])"
            ]
          },
          "metadata": {},
          "execution_count": 42
        }
      ]
    },
    {
      "cell_type": "code",
      "source": [
        "torch.tensor([1,2.1,3],dtype=torch.float64)"
      ],
      "metadata": {
        "colab": {
          "base_uri": "https://localhost:8080/"
        },
        "id": "MPllIS7cuJF-",
        "outputId": "98a36966-f27c-4350-81b1-b027710bd020"
      },
      "execution_count": 45,
      "outputs": [
        {
          "output_type": "execute_result",
          "data": {
            "text/plain": [
              "tensor([1.0000, 2.1000, 3.0000], dtype=torch.float64)"
            ]
          },
          "metadata": {},
          "execution_count": 45
        }
      ]
    },
    {
      "cell_type": "code",
      "source": [
        "# using to\n",
        "x.to(torch.float64)"
      ],
      "metadata": {
        "colab": {
          "base_uri": "https://localhost:8080/"
        },
        "id": "8_k_A4QFuh5V",
        "outputId": "fda7f78b-d350-440a-a41a-665c0c5b449e"
      },
      "execution_count": 46,
      "outputs": [
        {
          "output_type": "execute_result",
          "data": {
            "text/plain": [
              "tensor([[1., 2., 3.],\n",
              "        [4., 5., 6.]], dtype=torch.float64)"
            ]
          },
          "metadata": {},
          "execution_count": 46
        }
      ]
    },
    {
      "cell_type": "code",
      "source": [],
      "metadata": {
        "id": "Vekirs2puxrf"
      },
      "execution_count": null,
      "outputs": []
    },
    {
      "cell_type": "markdown",
      "source": [
        "# 1.Scaler Operation"
      ],
      "metadata": {
        "id": "WJu1bYLDvVT_"
      }
    },
    {
      "cell_type": "code",
      "source": [
        "# Adiition\n",
        "x=torch.tensor([1,2,3])\n",
        "y=torch.tensor([4,5,6])\n",
        "print(x+y)\n",
        "\n",
        "# Substraction\n",
        "print(x-y)\n",
        "\n",
        "# Multiplication\n",
        "print(x*y)\n",
        "\n",
        "# Division\n",
        "print(x/y)\n",
        "\n",
        "# mod\n",
        "print(x%y)\n",
        "\n",
        "# power\n",
        "print(x**y)\n",
        "\n",
        "\n",
        "#abslute  using troch.abs(x)\n",
        "# and many more like negative ,round,seal,floor,clamp"
      ],
      "metadata": {
        "colab": {
          "base_uri": "https://localhost:8080/"
        },
        "id": "wYSp_wYuvbTy",
        "outputId": "541104d9-f04e-486b-b4c9-c5a2300b4d99"
      },
      "execution_count": 55,
      "outputs": [
        {
          "output_type": "stream",
          "name": "stdout",
          "text": [
            "tensor([5, 7, 9])\n",
            "tensor([-3, -3, -3])\n",
            "tensor([ 4, 10, 18])\n",
            "tensor([0.2500, 0.4000, 0.5000])\n",
            "tensor([1, 2, 3])\n",
            "tensor([  1,  32, 729])\n"
          ]
        }
      ]
    },
    {
      "cell_type": "code",
      "source": [],
      "metadata": {
        "id": "wNFVcfXavjrr"
      },
      "execution_count": null,
      "outputs": []
    },
    {
      "cell_type": "markdown",
      "source": [
        "# 3.Reduction operation"
      ],
      "metadata": {
        "id": "hiZmwIp6xfsD"
      }
    },
    {
      "cell_type": "code",
      "source": [
        "y=torch.randint(size=(2,3),low=0,high=10,dtype=torch.float64)\n",
        "y"
      ],
      "metadata": {
        "colab": {
          "base_uri": "https://localhost:8080/"
        },
        "id": "LxHGAAfqxrYx",
        "outputId": "bd8f23b5-294d-45ea-a4a0-301ba59d46c4"
      },
      "execution_count": 71,
      "outputs": [
        {
          "output_type": "execute_result",
          "data": {
            "text/plain": [
              "tensor([[8., 2., 1.],\n",
              "        [0., 0., 6.]], dtype=torch.float64)"
            ]
          },
          "metadata": {},
          "execution_count": 71
        }
      ]
    },
    {
      "cell_type": "markdown",
      "source": [],
      "metadata": {
        "id": "sEPyE_AmyU2b"
      }
    },
    {
      "cell_type": "code",
      "source": [
        "print(torch.sum(y))\n",
        "# sum along columns\n",
        "print(torch.sum(y,dim=0))\n",
        "# sum along rows\n",
        "torch.sum(y,dim=1)"
      ],
      "metadata": {
        "colab": {
          "base_uri": "https://localhost:8080/"
        },
        "id": "66L94v_PyCBr",
        "outputId": "aa2e6e4c-77a3-4076-a775-79fcc3245490"
      },
      "execution_count": 72,
      "outputs": [
        {
          "output_type": "stream",
          "name": "stdout",
          "text": [
            "tensor(17., dtype=torch.float64)\n",
            "tensor([8., 2., 7.], dtype=torch.float64)\n"
          ]
        },
        {
          "output_type": "execute_result",
          "data": {
            "text/plain": [
              "tensor([11.,  6.], dtype=torch.float64)"
            ]
          },
          "metadata": {},
          "execution_count": 72
        }
      ]
    },
    {
      "cell_type": "code",
      "source": [
        "#mean\n",
        "print(torch.mean(y))\n",
        "# along columns\n",
        "torch.mean(y,dim=0)\n",
        "# along rows\n",
        "torch.mean(y,dim=1)"
      ],
      "metadata": {
        "colab": {
          "base_uri": "https://localhost:8080/"
        },
        "id": "W7KIiAlCyNXH",
        "outputId": "e5f1add3-7d03-4e0c-b5dc-5e848f25dcf9"
      },
      "execution_count": 75,
      "outputs": [
        {
          "output_type": "stream",
          "name": "stdout",
          "text": [
            "tensor(2.8333, dtype=torch.float64)\n"
          ]
        },
        {
          "output_type": "execute_result",
          "data": {
            "text/plain": [
              "tensor([3.6667, 2.0000], dtype=torch.float64)"
            ]
          },
          "metadata": {},
          "execution_count": 75
        }
      ]
    },
    {
      "cell_type": "code",
      "source": [
        "# median\n",
        "torch.median(y)"
      ],
      "metadata": {
        "colab": {
          "base_uri": "https://localhost:8080/"
        },
        "id": "BaH2Iz7CzBz_",
        "outputId": "66c55fe5-9859-4680-dd99-d2a52b128b4d"
      },
      "execution_count": 77,
      "outputs": [
        {
          "output_type": "execute_result",
          "data": {
            "text/plain": [
              "tensor(1., dtype=torch.float64)"
            ]
          },
          "metadata": {},
          "execution_count": 77
        }
      ]
    },
    {
      "cell_type": "code",
      "source": [
        "# product\n",
        "torch.prod(y)"
      ],
      "metadata": {
        "colab": {
          "base_uri": "https://localhost:8080/"
        },
        "id": "GyUIDSM_z5Ap",
        "outputId": "c6017ab0-6535-4e70-c38c-b68c75390423"
      },
      "execution_count": 80,
      "outputs": [
        {
          "output_type": "execute_result",
          "data": {
            "text/plain": [
              "tensor(0., dtype=torch.float64)"
            ]
          },
          "metadata": {},
          "execution_count": 80
        }
      ]
    },
    {
      "cell_type": "code",
      "source": [
        "# tsnaddard deviation\n",
        "torch.std(y)"
      ],
      "metadata": {
        "colab": {
          "base_uri": "https://localhost:8080/"
        },
        "id": "Ke2AoNZb0FXs",
        "outputId": "bab1e2e3-70b0-48b9-ea8f-ce754393ab92"
      },
      "execution_count": 81,
      "outputs": [
        {
          "output_type": "execute_result",
          "data": {
            "text/plain": [
              "tensor(3.3714, dtype=torch.float64)"
            ]
          },
          "metadata": {},
          "execution_count": 81
        }
      ]
    },
    {
      "cell_type": "code",
      "source": [
        "# variance\n",
        "torch.var(y)"
      ],
      "metadata": {
        "colab": {
          "base_uri": "https://localhost:8080/"
        },
        "id": "mgDcIVB50RR9",
        "outputId": "2e4abb23-c926-43fb-8dc7-845cb0c18585"
      },
      "execution_count": 82,
      "outputs": [
        {
          "output_type": "execute_result",
          "data": {
            "text/plain": [
              "tensor(11.3667, dtype=torch.float64)"
            ]
          },
          "metadata": {},
          "execution_count": 82
        }
      ]
    },
    {
      "cell_type": "code",
      "source": [
        "# argmax and arg min  -> they will tell th position number of max and min number of tensor\n",
        "torch.argmax(y)\n",
        "torch.argmin(y)\n"
      ],
      "metadata": {
        "colab": {
          "base_uri": "https://localhost:8080/"
        },
        "id": "ZrbQRP7L0XtI",
        "outputId": "552c1eaf-54a0-4229-c157-ed353817f04f"
      },
      "execution_count": 87,
      "outputs": [
        {
          "output_type": "execute_result",
          "data": {
            "text/plain": [
              "tensor(3)"
            ]
          },
          "metadata": {},
          "execution_count": 87
        }
      ]
    },
    {
      "cell_type": "markdown",
      "source": [
        "# Matrix operation"
      ],
      "metadata": {
        "id": "6Kx9YTf21Fm5"
      }
    },
    {
      "cell_type": "code",
      "source": [
        "# matrix multiplication"
      ],
      "metadata": {
        "id": "jY49imCl073r"
      },
      "execution_count": 88,
      "outputs": []
    },
    {
      "cell_type": "code",
      "source": [
        "f=torch.randint(size=(2,3),low=0,high=10)\n",
        "g=torch.randint(size=(3,2),low=0,high=10)\n",
        "print(f)\n",
        "print(g)\n"
      ],
      "metadata": {
        "colab": {
          "base_uri": "https://localhost:8080/"
        },
        "id": "RAhh2uxT1UX6",
        "outputId": "9ef25bf0-3a10-4db8-ae67-98580c59b015"
      },
      "execution_count": 89,
      "outputs": [
        {
          "output_type": "stream",
          "name": "stdout",
          "text": [
            "tensor([[5, 0, 6],\n",
            "        [9, 2, 4]])\n",
            "tensor([[2, 0],\n",
            "        [2, 3],\n",
            "        [3, 1]])\n"
          ]
        }
      ]
    },
    {
      "cell_type": "code",
      "source": [
        "torch.matmul(f,g)"
      ],
      "metadata": {
        "colab": {
          "base_uri": "https://localhost:8080/"
        },
        "id": "TlXpw0E71pE6",
        "outputId": "08625948-9b1b-4ca8-d93e-185fe4ae2ad6"
      },
      "execution_count": 90,
      "outputs": [
        {
          "output_type": "execute_result",
          "data": {
            "text/plain": [
              "tensor([[28,  6],\n",
              "        [34, 10]])"
            ]
          },
          "metadata": {},
          "execution_count": 90
        }
      ]
    },
    {
      "cell_type": "code",
      "source": [
        "# can do dot product in similar fashion"
      ],
      "metadata": {
        "id": "7361BPzF14qe"
      },
      "execution_count": 92,
      "outputs": []
    },
    {
      "cell_type": "code",
      "source": [
        "# transpose\n",
        "torch.transpose(f,0,1)"
      ],
      "metadata": {
        "colab": {
          "base_uri": "https://localhost:8080/"
        },
        "id": "EnM8t6DJ2MiT",
        "outputId": "1bbeda4e-9942-4146-eeee-549f64567a85"
      },
      "execution_count": 95,
      "outputs": [
        {
          "output_type": "execute_result",
          "data": {
            "text/plain": [
              "tensor([[5, 9],\n",
              "        [0, 2],\n",
              "        [6, 4]])"
            ]
          },
          "metadata": {},
          "execution_count": 95
        }
      ]
    },
    {
      "cell_type": "code",
      "source": [
        "# determinant\n",
        "x=torch.tensor([[2,2],[3,4]],dtype=torch.float32)\n",
        "torch.det(x)"
      ],
      "metadata": {
        "colab": {
          "base_uri": "https://localhost:8080/"
        },
        "id": "fQbptdcx2fWH",
        "outputId": "bdea6d52-7e3a-4cf4-adc8-f24dba56d56b"
      },
      "execution_count": 98,
      "outputs": [
        {
          "output_type": "execute_result",
          "data": {
            "text/plain": [
              "tensor(2.)"
            ]
          },
          "metadata": {},
          "execution_count": 98
        }
      ]
    },
    {
      "cell_type": "code",
      "source": [
        "# inverse can also be calculate"
      ],
      "metadata": {
        "id": "5QarWG4D3AND"
      },
      "execution_count": 99,
      "outputs": []
    },
    {
      "cell_type": "code",
      "source": [],
      "metadata": {
        "id": "UYvFonNy6Gol"
      },
      "execution_count": null,
      "outputs": []
    },
    {
      "cell_type": "markdown",
      "source": [
        "# Comparision\n"
      ],
      "metadata": {
        "id": "r6PDLBgB6Ikz"
      }
    },
    {
      "cell_type": "code",
      "source": [
        "p=torch.randint(size=(2,3),low=1,high=10,dtype=torch.float64)\n",
        "q=torch.randint(size=(2,3),low=0,high=10)\n",
        "print(p)\n",
        "q"
      ],
      "metadata": {
        "colab": {
          "base_uri": "https://localhost:8080/"
        },
        "id": "bkPi-aad6WaR",
        "outputId": "7762a1a7-9ac1-4e43-a4c7-a64eca42b50b"
      },
      "execution_count": 122,
      "outputs": [
        {
          "output_type": "stream",
          "name": "stdout",
          "text": [
            "tensor([[2., 2., 9.],\n",
            "        [5., 3., 4.]], dtype=torch.float64)\n"
          ]
        },
        {
          "output_type": "execute_result",
          "data": {
            "text/plain": [
              "tensor([[5, 2, 4],\n",
              "        [8, 4, 3]])"
            ]
          },
          "metadata": {},
          "execution_count": 122
        }
      ]
    },
    {
      "cell_type": "code",
      "source": [
        "p>q"
      ],
      "metadata": {
        "colab": {
          "base_uri": "https://localhost:8080/"
        },
        "id": "nMUPe6hXA2Ym",
        "outputId": "afc82536-4ea6-4ba1-9e22-f5ec447d121f"
      },
      "execution_count": 123,
      "outputs": [
        {
          "output_type": "execute_result",
          "data": {
            "text/plain": [
              "tensor([[False, False,  True],\n",
              "        [False, False,  True]])"
            ]
          },
          "metadata": {},
          "execution_count": 123
        }
      ]
    },
    {
      "cell_type": "code",
      "source": [
        "# log\n",
        "torch.log(p)\n"
      ],
      "metadata": {
        "colab": {
          "base_uri": "https://localhost:8080/"
        },
        "id": "_8ZzE4ENBKAE",
        "outputId": "acf68acc-6711-44c2-aee9-8525c5c2720f"
      },
      "execution_count": 124,
      "outputs": [
        {
          "output_type": "execute_result",
          "data": {
            "text/plain": [
              "tensor([[0.6931, 0.6931, 2.1972],\n",
              "        [1.6094, 1.0986, 1.3863]], dtype=torch.float64)"
            ]
          },
          "metadata": {},
          "execution_count": 124
        }
      ]
    },
    {
      "cell_type": "code",
      "source": [
        "# exp\n",
        "torch.exp(p)\n"
      ],
      "metadata": {
        "colab": {
          "base_uri": "https://localhost:8080/"
        },
        "id": "7SObuwrLEZ7Q",
        "outputId": "c16a0435-e6e3-4520-a51e-b36dc7960026"
      },
      "execution_count": 125,
      "outputs": [
        {
          "output_type": "execute_result",
          "data": {
            "text/plain": [
              "tensor([[7.3891e+00, 7.3891e+00, 8.1031e+03],\n",
              "        [1.4841e+02, 2.0086e+01, 5.4598e+01]], dtype=torch.float64)"
            ]
          },
          "metadata": {},
          "execution_count": 125
        }
      ]
    },
    {
      "cell_type": "code",
      "source": [
        "#sqrt\n",
        "torch.sqrt(p)"
      ],
      "metadata": {
        "colab": {
          "base_uri": "https://localhost:8080/"
        },
        "id": "Jjhr_zNmElu1",
        "outputId": "0f5578f5-8b7c-48eb-9842-096c0f838421"
      },
      "execution_count": 126,
      "outputs": [
        {
          "output_type": "execute_result",
          "data": {
            "text/plain": [
              "tensor([[1.4142, 1.4142, 3.0000],\n",
              "        [2.2361, 1.7321, 2.0000]], dtype=torch.float64)"
            ]
          },
          "metadata": {},
          "execution_count": 126
        }
      ]
    },
    {
      "cell_type": "code",
      "source": [
        "# sigmoid\n",
        "torch.sigmoid(p)"
      ],
      "metadata": {
        "colab": {
          "base_uri": "https://localhost:8080/"
        },
        "id": "gICrYz87EyWq",
        "outputId": "42b28f09-d713-4eac-b669-22cd351c7b18"
      },
      "execution_count": 127,
      "outputs": [
        {
          "output_type": "execute_result",
          "data": {
            "text/plain": [
              "tensor([[0.8808, 0.8808, 0.9999],\n",
              "        [0.9933, 0.9526, 0.9820]], dtype=torch.float64)"
            ]
          },
          "metadata": {},
          "execution_count": 127
        }
      ]
    },
    {
      "cell_type": "code",
      "source": [
        "# softmax\n",
        "torch.softmax(p,dim=0)"
      ],
      "metadata": {
        "colab": {
          "base_uri": "https://localhost:8080/"
        },
        "id": "89yuP_ShE4sv",
        "outputId": "992080e4-2fbb-4f14-9671-911386134cd0"
      },
      "execution_count": 128,
      "outputs": [
        {
          "output_type": "execute_result",
          "data": {
            "text/plain": [
              "tensor([[0.0474, 0.2689, 0.9933],\n",
              "        [0.9526, 0.7311, 0.0067]], dtype=torch.float64)"
            ]
          },
          "metadata": {},
          "execution_count": 128
        }
      ]
    },
    {
      "cell_type": "code",
      "source": [
        "# relu\n",
        "torch.relu(p)"
      ],
      "metadata": {
        "colab": {
          "base_uri": "https://localhost:8080/"
        },
        "id": "pYOhv5oYFGMP",
        "outputId": "9380373c-b6f1-4168-c95b-336d6b39576c"
      },
      "execution_count": 129,
      "outputs": [
        {
          "output_type": "execute_result",
          "data": {
            "text/plain": [
              "tensor([[2., 2., 9.],\n",
              "        [5., 3., 4.]], dtype=torch.float64)"
            ]
          },
          "metadata": {},
          "execution_count": 129
        }
      ]
    },
    {
      "cell_type": "markdown",
      "source": [
        "# Inplace Operations"
      ],
      "metadata": {
        "id": "brGrjO6MG7g1"
      }
    },
    {
      "cell_type": "code",
      "source": [
        "m=torch.randint(size=(2,3),low=0,high=10)\n",
        "n=torch.randint(size=(2,3),low=0,high=10)\n",
        "print(m)\n",
        "n"
      ],
      "metadata": {
        "colab": {
          "base_uri": "https://localhost:8080/"
        },
        "id": "0bl8H72nHAKT",
        "outputId": "5500cae3-1801-42cc-f8c7-aaffc39f76a4"
      },
      "execution_count": 136,
      "outputs": [
        {
          "output_type": "stream",
          "name": "stdout",
          "text": [
            "tensor([[7, 3, 7],\n",
            "        [7, 2, 5]])\n"
          ]
        },
        {
          "output_type": "execute_result",
          "data": {
            "text/plain": [
              "tensor([[4, 7, 2],\n",
              "        [3, 7, 9]])"
            ]
          },
          "metadata": {},
          "execution_count": 136
        }
      ]
    },
    {
      "cell_type": "markdown",
      "source": [],
      "metadata": {
        "id": "j1gbiLq3G6IM"
      }
    },
    {
      "cell_type": "code",
      "source": [
        "m+n"
      ],
      "metadata": {
        "colab": {
          "base_uri": "https://localhost:8080/"
        },
        "id": "lGnyj0chJpFN",
        "outputId": "3efe3b7f-f0ef-4c29-8bd4-f7de98a02de6"
      },
      "execution_count": 137,
      "outputs": [
        {
          "output_type": "execute_result",
          "data": {
            "text/plain": [
              "tensor([[11, 10,  9],\n",
              "        [10,  9, 14]])"
            ]
          },
          "metadata": {},
          "execution_count": 137
        }
      ]
    },
    {
      "cell_type": "code",
      "source": [
        "m.add_(n)"
      ],
      "metadata": {
        "colab": {
          "base_uri": "https://localhost:8080/"
        },
        "id": "x4hswT1mJ1R4",
        "outputId": "4f2e6d79-4f3b-420c-a936-95fe7aea7edd"
      },
      "execution_count": 138,
      "outputs": [
        {
          "output_type": "execute_result",
          "data": {
            "text/plain": [
              "tensor([[11, 10,  9],\n",
              "        [10,  9, 14]])"
            ]
          },
          "metadata": {},
          "execution_count": 138
        }
      ]
    },
    {
      "cell_type": "code",
      "source": [
        "m+n"
      ],
      "metadata": {
        "colab": {
          "base_uri": "https://localhost:8080/"
        },
        "id": "DscWfR2GJ6zC",
        "outputId": "d43ae3e2-7c81-4234-edf0-ec3bc5d1a9cf"
      },
      "execution_count": 139,
      "outputs": [
        {
          "output_type": "execute_result",
          "data": {
            "text/plain": [
              "tensor([[15, 17, 11],\n",
              "        [13, 16, 23]])"
            ]
          },
          "metadata": {},
          "execution_count": 139
        }
      ]
    },
    {
      "cell_type": "code",
      "source": [
        "m"
      ],
      "metadata": {
        "colab": {
          "base_uri": "https://localhost:8080/"
        },
        "id": "E-NayV1sJ8GV",
        "outputId": "e6f341cc-8b10-4feb-a756-f7ae9cab1544"
      },
      "execution_count": 140,
      "outputs": [
        {
          "output_type": "execute_result",
          "data": {
            "text/plain": [
              "tensor([[11, 10,  9],\n",
              "        [10,  9, 14]])"
            ]
          },
          "metadata": {},
          "execution_count": 140
        }
      ]
    },
    {
      "cell_type": "code",
      "source": [
        "torch.relu(m)"
      ],
      "metadata": {
        "colab": {
          "base_uri": "https://localhost:8080/"
        },
        "id": "BaxpMlktKAN-",
        "outputId": "b8a38133-cbc7-4ada-cbb8-d3cf240f27ca"
      },
      "execution_count": 141,
      "outputs": [
        {
          "output_type": "execute_result",
          "data": {
            "text/plain": [
              "tensor([[11, 10,  9],\n",
              "        [10,  9, 14]])"
            ]
          },
          "metadata": {},
          "execution_count": 141
        }
      ]
    },
    {
      "cell_type": "code",
      "source": [
        "m.relu_()"
      ],
      "metadata": {
        "colab": {
          "base_uri": "https://localhost:8080/"
        },
        "id": "mqDkrMREKstB",
        "outputId": "889e69f4-eae4-4408-bb67-64f28789830f"
      },
      "execution_count": 142,
      "outputs": [
        {
          "output_type": "execute_result",
          "data": {
            "text/plain": [
              "tensor([[11, 10,  9],\n",
              "        [10,  9, 14]])"
            ]
          },
          "metadata": {},
          "execution_count": 142
        }
      ]
    },
    {
      "cell_type": "markdown",
      "source": [
        "# Copying a Tensor"
      ],
      "metadata": {
        "id": "hRgu7haGLGcD"
      }
    },
    {
      "cell_type": "code",
      "source": [
        "a=torch.rand(2,3)\n",
        "a"
      ],
      "metadata": {
        "colab": {
          "base_uri": "https://localhost:8080/"
        },
        "id": "om3sEkDvLSJi",
        "outputId": "7f1015f7-28ed-4415-feca-8b37c5463395"
      },
      "execution_count": 143,
      "outputs": [
        {
          "output_type": "execute_result",
          "data": {
            "text/plain": [
              "tensor([[0.4563, 0.2539, 0.2956],\n",
              "        [0.3413, 0.0248, 0.9103]])"
            ]
          },
          "metadata": {},
          "execution_count": 143
        }
      ]
    },
    {
      "cell_type": "code",
      "source": [
        "b=a\n",
        "b"
      ],
      "metadata": {
        "colab": {
          "base_uri": "https://localhost:8080/"
        },
        "id": "Koqr2bOfLY2L",
        "outputId": "9cd13101-5738-4518-cb09-0ce9389f5f0e"
      },
      "execution_count": 145,
      "outputs": [
        {
          "output_type": "execute_result",
          "data": {
            "text/plain": [
              "tensor([[0.4563, 0.2539, 0.2956],\n",
              "        [0.3413, 0.0248, 0.9103]])"
            ]
          },
          "metadata": {},
          "execution_count": 145
        }
      ]
    },
    {
      "cell_type": "code",
      "source": [
        "a[0][0]=0\n",
        "a"
      ],
      "metadata": {
        "colab": {
          "base_uri": "https://localhost:8080/"
        },
        "id": "eY6rzkk7Lvxg",
        "outputId": "225efb96-f26a-4ab7-90f9-18269d989c91"
      },
      "execution_count": 146,
      "outputs": [
        {
          "output_type": "execute_result",
          "data": {
            "text/plain": [
              "tensor([[0.0000, 0.2539, 0.2956],\n",
              "        [0.3413, 0.0248, 0.9103]])"
            ]
          },
          "metadata": {},
          "execution_count": 146
        }
      ]
    },
    {
      "cell_type": "code",
      "source": [
        "b"
      ],
      "metadata": {
        "colab": {
          "base_uri": "https://localhost:8080/"
        },
        "id": "SxFT_acPMF0k",
        "outputId": "fccec29f-1ea4-4dd4-d7aa-dff9a12f0787"
      },
      "execution_count": 147,
      "outputs": [
        {
          "output_type": "execute_result",
          "data": {
            "text/plain": [
              "tensor([[0.0000, 0.2539, 0.2956],\n",
              "        [0.3413, 0.0248, 0.9103]])"
            ]
          },
          "metadata": {},
          "execution_count": 147
        }
      ]
    },
    {
      "cell_type": "code",
      "source": [
        "id(b)"
      ],
      "metadata": {
        "colab": {
          "base_uri": "https://localhost:8080/"
        },
        "id": "In4FEraxMHEU",
        "outputId": "173afefd-d4ca-4ba2-9a6f-08fcb9fc898b"
      },
      "execution_count": 148,
      "outputs": [
        {
          "output_type": "execute_result",
          "data": {
            "text/plain": [
              "136222358728208"
            ]
          },
          "metadata": {},
          "execution_count": 148
        }
      ]
    },
    {
      "cell_type": "code",
      "source": [
        "id(a)"
      ],
      "metadata": {
        "colab": {
          "base_uri": "https://localhost:8080/"
        },
        "id": "EKMmRQz3MOn7",
        "outputId": "d69eae14-68e2-4940-9634-4e8e0c1e2358"
      },
      "execution_count": 149,
      "outputs": [
        {
          "output_type": "execute_result",
          "data": {
            "text/plain": [
              "136222358728208"
            ]
          },
          "metadata": {},
          "execution_count": 149
        }
      ]
    },
    {
      "cell_type": "code",
      "source": [
        "b=a.clone()\n",
        "a"
      ],
      "metadata": {
        "colab": {
          "base_uri": "https://localhost:8080/"
        },
        "id": "aw0S8K-EMQYj",
        "outputId": "db55d3f2-3f86-423d-d035-a6816b462bec"
      },
      "execution_count": 151,
      "outputs": [
        {
          "output_type": "execute_result",
          "data": {
            "text/plain": [
              "tensor([[0.0000, 0.2539, 0.2956],\n",
              "        [0.3413, 0.0248, 0.9103]])"
            ]
          },
          "metadata": {},
          "execution_count": 151
        }
      ]
    },
    {
      "cell_type": "code",
      "source": [],
      "metadata": {
        "id": "3qzwsYWWM2Ns"
      },
      "execution_count": null,
      "outputs": []
    }
  ]
}